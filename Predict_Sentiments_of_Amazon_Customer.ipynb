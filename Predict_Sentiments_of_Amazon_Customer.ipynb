{
 "cells": [
  {
   "cell_type": "code",
   "execution_count": null,
   "id": "8f5ffb4d",
   "metadata": {},
   "outputs": [],
   "source": [
    "#Perform Data Pre-Processing &Prepare your data fro the modelling purpose.\n",
    "\n",
    "import pandas as pd\n",
    "import numpy as np"
   ]
  },
  {
   "cell_type": "code",
   "execution_count": null,
   "id": "4fa158b3",
   "metadata": {},
   "outputs": [],
   "source": [
    "df=pd.read_csv(r'C:\\Users\\sshar\\Desktop\\Natural Language Processing\\1.Amazon Use-case/Reviews.csv')\n",
    "df.head()"
   ]
  },
  {
   "cell_type": "code",
   "execution_count": null,
   "id": "a92e60d6",
   "metadata": {},
   "outputs": [],
   "source": [
    "df.columns\n"
   ]
  },
  {
   "cell_type": "code",
   "execution_count": null,
   "id": "62e45dd1",
   "metadata": {},
   "outputs": [],
   "source": [
    "df['Helpful%']=np.where(df['HelpfulnessDenominator']>0,df['HelpfulnessNumerator']/df['HelpfulnessDenominator'],-1)"
   ]
  },
  {
   "cell_type": "code",
   "execution_count": null,
   "id": "8b7f184c",
   "metadata": {},
   "outputs": [],
   "source": [
    "df.head()"
   ]
  },
  {
   "cell_type": "code",
   "execution_count": null,
   "id": "2e1d3389",
   "metadata": {},
   "outputs": [],
   "source": [
    "df['Helpful%'].unique()"
   ]
  },
  {
   "cell_type": "code",
   "execution_count": null,
   "id": "f06fb1ae",
   "metadata": {},
   "outputs": [],
   "source": [
    "df['%upvote']=pd.cut(df['Helpful%'],bins=[-1,0,0.2,0.4,0.6,0.8,1],labels=['Empty','0-20%','20-40%','40-60%','60-80%','80-100%'])"
   ]
  },
  {
   "cell_type": "code",
   "execution_count": null,
   "id": "799a0a8e",
   "metadata": {},
   "outputs": [],
   "source": [
    "df.head()"
   ]
  },
  {
   "cell_type": "code",
   "execution_count": null,
   "id": "4a3bf4a4",
   "metadata": {},
   "outputs": [],
   "source": []
  },
  {
   "cell_type": "code",
   "execution_count": null,
   "id": "a5fbb5f2",
   "metadata": {},
   "outputs": [],
   "source": []
  },
  {
   "cell_type": "code",
   "execution_count": null,
   "id": "347ecf4e",
   "metadata": {},
   "outputs": [],
   "source": [
    "#Analyse Upvote for different scores.\n",
    "#Create Pivot Table & Heatmap of the above problem statement "
   ]
  },
  {
   "cell_type": "code",
   "execution_count": null,
   "id": "420853fd",
   "metadata": {},
   "outputs": [],
   "source": []
  },
  {
   "cell_type": "code",
   "execution_count": null,
   "id": "1c03d86d",
   "metadata": {},
   "outputs": [],
   "source": [
    "df.groupby(['Score','%upvote']).agg('count')\n",
    "#grouping on the basis of score and %upvote and counting them"
   ]
  },
  {
   "cell_type": "code",
   "execution_count": null,
   "id": "eca2037a",
   "metadata": {},
   "outputs": [],
   "source": []
  },
  {
   "cell_type": "code",
   "execution_count": null,
   "id": "14e6aad9",
   "metadata": {},
   "outputs": [],
   "source": [
    "df_s=df.groupby(['Score','%upvote']).agg({'Id':'count'}).reset_index()"
   ]
  },
  {
   "cell_type": "code",
   "execution_count": null,
   "id": "c1117190",
   "metadata": {},
   "outputs": [],
   "source": [
    "df_s\n"
   ]
  },
  {
   "cell_type": "code",
   "execution_count": null,
   "id": "ef6bd113",
   "metadata": {},
   "outputs": [],
   "source": [
    "pivot=df_s.pivot(index='%upvote',columns='Score')"
   ]
  },
  {
   "cell_type": "code",
   "execution_count": null,
   "id": "858d8e4a",
   "metadata": {},
   "outputs": [],
   "source": [
    "pivot"
   ]
  },
  {
   "cell_type": "code",
   "execution_count": null,
   "id": "8f889619",
   "metadata": {},
   "outputs": [],
   "source": [
    "import seaborn as sns"
   ]
  },
  {
   "cell_type": "code",
   "execution_count": null,
   "id": "c2974bfa",
   "metadata": {},
   "outputs": [],
   "source": [
    "sns.heatmap(pivot,annot=True,cmap=\"YlGnBu\")"
   ]
  },
  {
   "cell_type": "code",
   "execution_count": null,
   "id": "7ee7ba62",
   "metadata": {},
   "outputs": [],
   "source": [
    "#After visualing \n",
    "#More than half of reviews are empty (The first cell)\n",
    "#Darker Density indicates that many people agree with score 5"
   ]
  },
  {
   "cell_type": "code",
   "execution_count": null,
   "id": "00ec7a16",
   "metadata": {},
   "outputs": [],
   "source": [
    "#We Segregated on the basis of number of %upvotes per score,\n",
    "#Than pivoted them to form row and column of these\n",
    "#Than using seaborn we visualized the data using heatmap"
   ]
  },
  {
   "cell_type": "code",
   "execution_count": null,
   "id": "149eb0fd",
   "metadata": {},
   "outputs": [],
   "source": []
  },
  {
   "cell_type": "code",
   "execution_count": null,
   "id": "f65d57ca",
   "metadata": {},
   "outputs": [],
   "source": []
  },
  {
   "cell_type": "code",
   "execution_count": null,
   "id": "d54b212a",
   "metadata": {},
   "outputs": [],
   "source": [
    "#Apply Bag of Words on DATA\n",
    "#Check Model Accuracy\n",
    "#Fetch Top 20 Positive Words & Top 20 Negative Words.....\n",
    "\n",
    "\n",
    "#Machine Learning Doesn't Understand Words...it needs number so we use NLP (Bag of Words) to convert sentences to vectors or integers, float"
   ]
  },
  {
   "cell_type": "code",
   "execution_count": null,
   "id": "20a986d9",
   "metadata": {},
   "outputs": [],
   "source": [
    "df['Score'].unique()"
   ]
  },
  {
   "cell_type": "code",
   "execution_count": null,
   "id": "d4ba9a68",
   "metadata": {},
   "outputs": [],
   "source": [
    "#Since 3 is of no value(Nuetral Score) we need to remove it\n",
    "df2=df[df['Score']!=3]"
   ]
  },
  {
   "cell_type": "code",
   "execution_count": null,
   "id": "81e13b52",
   "metadata": {},
   "outputs": [],
   "source": [
    "X=df2['Text']\n",
    "#independent data"
   ]
  },
  {
   "cell_type": "code",
   "execution_count": null,
   "id": "3e576b56",
   "metadata": {},
   "outputs": [],
   "source": [
    "df2['Score'].unique()\n",
    "\n",
    "#Score is dependend data"
   ]
  },
  {
   "cell_type": "code",
   "execution_count": null,
   "id": "b68dc120",
   "metadata": {},
   "outputs": [],
   "source": [
    "y_dict={1:0,2:0,4:1,5:1}  #replacing scores with 0,1\n",
    "y=df2['Score'].map(y_dict) #dependent data stored in y variable"
   ]
  },
  {
   "cell_type": "code",
   "execution_count": null,
   "id": "9c3925fa",
   "metadata": {},
   "outputs": [],
   "source": [
    "#Converting Text into vector using NLP\n",
    "\n",
    "from sklearn.feature_extraction.text import CountVectorizer"
   ]
  },
  {
   "cell_type": "code",
   "execution_count": null,
   "id": "60ee2905",
   "metadata": {},
   "outputs": [],
   "source": [
    "c=CountVectorizer(stop_words='english') #removing words that make no sense(he,she,it etc.)"
   ]
  },
  {
   "cell_type": "code",
   "execution_count": null,
   "id": "c909f451",
   "metadata": {},
   "outputs": [],
   "source": [
    "X_c=c.fit_transform(X)"
   ]
  },
  {
   "cell_type": "code",
   "execution_count": null,
   "id": "3b228460",
   "metadata": {},
   "outputs": [],
   "source": [
    "X_c.shape #number of rows into columns(number of features)"
   ]
  },
  {
   "cell_type": "code",
   "execution_count": null,
   "id": "89c77ead",
   "metadata": {},
   "outputs": [],
   "source": []
  },
  {
   "cell_type": "code",
   "execution_count": null,
   "id": "b9b93945",
   "metadata": {},
   "outputs": [],
   "source": [
    "from sklearn.model_selection import train_test_split"
   ]
  },
  {
   "cell_type": "code",
   "execution_count": null,
   "id": "442a2811",
   "metadata": {},
   "outputs": [],
   "source": [
    "X_train,X_test,y_train,y_test=train_test_split(X_c,y) #train is for testing purpose"
   ]
  },
  {
   "cell_type": "code",
   "execution_count": null,
   "id": "56de61c8",
   "metadata": {},
   "outputs": [],
   "source": [
    "\n",
    "#Importing Logistic Regression\n",
    "from sklearn.linear_model import LogisticRegression"
   ]
  },
  {
   "cell_type": "code",
   "execution_count": null,
   "id": "8da2d630",
   "metadata": {},
   "outputs": [],
   "source": [
    "log=LogisticRegression()"
   ]
  },
  {
   "cell_type": "code",
   "execution_count": null,
   "id": "84d5db48",
   "metadata": {},
   "outputs": [],
   "source": [
    "ml=log.fit(X_train,y_train)  #It will learn all kinds of relationship"
   ]
  },
  {
   "cell_type": "code",
   "execution_count": null,
   "id": "a5b950c2",
   "metadata": {},
   "outputs": [],
   "source": [
    "ml.score(X_test,y_test)"
   ]
  },
  {
   "cell_type": "code",
   "execution_count": null,
   "id": "b9533ece",
   "metadata": {},
   "outputs": [],
   "source": []
  },
  {
   "cell_type": "code",
   "execution_count": null,
   "id": "6d5ab90a",
   "metadata": {},
   "outputs": [],
   "source": [
    "#count vectorizer\n",
    "w=c.get_feature_names()\n",
    "w\n",
    "#all the features"
   ]
  },
  {
   "cell_type": "markdown",
   "id": "168dfcc0",
   "metadata": {},
   "source": []
  },
  {
   "cell_type": "code",
   "execution_count": null,
   "id": "780eee06",
   "metadata": {},
   "outputs": [],
   "source": [
    "coef=ml.coef_.tolist()[0]\n",
    "coef\n",
    "#coefficient of the model"
   ]
  },
  {
   "cell_type": "code",
   "execution_count": null,
   "id": "84b8cadf",
   "metadata": {},
   "outputs": [],
   "source": [
    "#Dataframe of Features and Coefficient of that\n",
    "coef_df=pd.DataFrame({'Word':w,'Coefficient':coef})\n",
    "coef_df"
   ]
  },
  {
   "cell_type": "code",
   "execution_count": null,
   "id": "62b0339d",
   "metadata": {},
   "outputs": [],
   "source": [
    "#Sorting the dataframe on the basis of coefficient"
   ]
  },
  {
   "cell_type": "code",
   "execution_count": null,
   "id": "93479c76",
   "metadata": {},
   "outputs": [],
   "source": [
    "coef_df=coef_df.sort_values(['Coefficient','Word'],ascending=False)\n",
    "coef_df"
   ]
  },
  {
   "cell_type": "code",
   "execution_count": null,
   "id": "094eb48b",
   "metadata": {},
   "outputs": [],
   "source": [
    "#Printing top 20 positive words\n",
    "coef_df.head(20)"
   ]
  },
  {
   "cell_type": "code",
   "execution_count": null,
   "id": "6a1936e7",
   "metadata": {},
   "outputs": [],
   "source": [
    "#Printing top 20 negative words\n",
    "coef_df.tail(20)"
   ]
  },
  {
   "cell_type": "code",
   "execution_count": null,
   "id": "f64baf7b",
   "metadata": {},
   "outputs": [],
   "source": []
  },
  {
   "cell_type": "code",
   "execution_count": null,
   "id": "f27c79ad",
   "metadata": {},
   "outputs": [],
   "source": []
  },
  {
   "cell_type": "code",
   "execution_count": null,
   "id": "cebd6d6e",
   "metadata": {},
   "outputs": [],
   "source": [
    "#Automating These Stuff\n",
    "    # applying nlp on your data\n",
    "    #check model accuracy\n",
    "    #fetch top 20 +ve and -ve words\n",
    "#Automating Predictions\n"
   ]
  },
  {
   "cell_type": "code",
   "execution_count": null,
   "id": "8c7b88e4",
   "metadata": {},
   "outputs": [],
   "source": [
    "def test_fit(X,y,nlp_model,ml_model,coef_show=1):#It will recive independent ,dependent data ,nlp model and ml model\n",
    "    X_c=nlp_model.fit_transform(X)  #any nlp model\n",
    "    print('features:{}'.format(X_c.shape[1]))\n",
    "    X_train,X_test,y_train,y_test=train_test_split(X_c,y) #train is for testing purpose\n",
    "    ml=ml_model.fit(X_train,y_train)\n",
    "    acc=ml.score(X_train,y_train)\n",
    "    print(acc)\n",
    "    \n",
    "    if coef_show==1:\n",
    "        w=c.get_feature_names()\n",
    "        coef=ml.coef_.tolist()[0]\n",
    "        coef_df=pd.DataFrame({'Word':w,'Coefficient':coef})\n",
    "        coef_df=coef_df.sort_values(['Coefficient','Word'],ascending=False)\n",
    "        print('-Top 20 Positive Words')\n",
    "        print(coef_df.head(20))\n",
    "        print('-Top 20 Negative Words')\n",
    "        print(coef_df.tail(20))"
   ]
  },
  {
   "cell_type": "code",
   "execution_count": null,
   "id": "01fb6455",
   "metadata": {},
   "outputs": [],
   "source": []
  },
  {
   "cell_type": "code",
   "execution_count": null,
   "id": "7d0a1ecc",
   "metadata": {},
   "outputs": [],
   "source": [
    "from sklearn.feature_extraction.text import CountVectorizer\n"
   ]
  },
  {
   "cell_type": "code",
   "execution_count": null,
   "id": "2d7146c8",
   "metadata": {},
   "outputs": [],
   "source": [
    "c=CountVectorizer(stop_words='english')"
   ]
  },
  {
   "cell_type": "code",
   "execution_count": null,
   "id": "03cab63b",
   "metadata": {},
   "outputs": [],
   "source": [
    "from sklearn.linear_model import LogisticRegression"
   ]
  },
  {
   "cell_type": "code",
   "execution_count": null,
   "id": "90d53c60",
   "metadata": {},
   "outputs": [],
   "source": [
    "test_fit(X,y,c,LogisticRegression())"
   ]
  },
  {
   "cell_type": "code",
   "execution_count": null,
   "id": "c7476635",
   "metadata": {},
   "outputs": [],
   "source": []
  },
  {
   "cell_type": "code",
   "execution_count": null,
   "id": "5f5f077c",
   "metadata": {},
   "outputs": [],
   "source": []
  },
  {
   "cell_type": "code",
   "execution_count": null,
   "id": "2c5db744",
   "metadata": {},
   "outputs": [],
   "source": [
    "from sklearn.metrics import confusion_matrix,accuracy_score\n",
    "def predict(X,y,nlp_model,ml_model):\n",
    "    X_c=nlp_model.fit_transform(X)\n",
    "    X_train,X_test,y_train,y_test=train_test_split(X_c,y) #train is for testing purpose\n",
    "    ml=ml_model.fit(X_train,y_train)\n",
    "    predictions=ml.predict(X_test)\n",
    "    cm=confusion_matrix(predictions,y_test)\n",
    "    print(cm)\n",
    "    acc=accuracy_score(predictions,y_test)\n",
    "    print(acc)"
   ]
  },
  {
   "cell_type": "code",
   "execution_count": null,
   "id": "52242bc2",
   "metadata": {},
   "outputs": [],
   "source": [
    "c=CountVectorizer()\n",
    "lr=LogisticRegression()"
   ]
  },
  {
   "cell_type": "code",
   "execution_count": null,
   "id": "1755e06d",
   "metadata": {},
   "outputs": [],
   "source": [
    "predict(X,y,c,lr)"
   ]
  },
  {
   "cell_type": "code",
   "execution_count": null,
   "id": "f60b9fa3",
   "metadata": {},
   "outputs": [],
   "source": [
    "\n",
    "#Applying more NLP and ML Techniques"
   ]
  },
  {
   "cell_type": "code",
   "execution_count": null,
   "id": "2309ea3a",
   "metadata": {},
   "outputs": [],
   "source": []
  },
  {
   "cell_type": "code",
   "execution_count": null,
   "id": "03c91bc2",
   "metadata": {},
   "outputs": [],
   "source": [
    "from sklearn.dummy import DummyClassifier"
   ]
  },
  {
   "cell_type": "code",
   "execution_count": null,
   "id": "2dd81595",
   "metadata": {},
   "outputs": [],
   "source": [
    "c=CountVectorizer()"
   ]
  },
  {
   "cell_type": "code",
   "execution_count": null,
   "id": "d59f98f5",
   "metadata": {},
   "outputs": [],
   "source": [
    "test_fit(X,y,c,DummyClassifier(),0)"
   ]
  },
  {
   "cell_type": "code",
   "execution_count": null,
   "id": "01e8f4fa",
   "metadata": {},
   "outputs": [],
   "source": [
    "from sklearn.feature_extraction.text import TfidfVectorizer"
   ]
  },
  {
   "cell_type": "code",
   "execution_count": null,
   "id": "44a89360",
   "metadata": {},
   "outputs": [],
   "source": [
    "tfidf=TfidfVectorizer(stop_words='english')"
   ]
  },
  {
   "cell_type": "code",
   "execution_count": null,
   "id": "4dda12fa",
   "metadata": {},
   "outputs": [],
   "source": [
    "lr=LogisticRegression()"
   ]
  },
  {
   "cell_type": "code",
   "execution_count": null,
   "id": "058927ed",
   "metadata": {},
   "outputs": [],
   "source": [
    "test_fit(X,y,tfidf,lr,0)"
   ]
  },
  {
   "cell_type": "code",
   "execution_count": null,
   "id": "00981cfa",
   "metadata": {},
   "outputs": [],
   "source": [
    "predict(X,y,c,lr)"
   ]
  },
  {
   "cell_type": "code",
   "execution_count": null,
   "id": "c20c5c99",
   "metadata": {},
   "outputs": [],
   "source": []
  },
  {
   "cell_type": "code",
   "execution_count": null,
   "id": "f21501ed",
   "metadata": {},
   "outputs": [],
   "source": []
  },
  {
   "cell_type": "code",
   "execution_count": null,
   "id": "2f302030",
   "metadata": {},
   "outputs": [],
   "source": [
    "#Data Preparation for Predicting the Upvotes\n",
    "#Apply tf-idf on data"
   ]
  },
  {
   "cell_type": "code",
   "execution_count": null,
   "id": "877c63b1",
   "metadata": {},
   "outputs": [],
   "source": [
    "#Since large number of reviews are of score 5"
   ]
  },
  {
   "cell_type": "code",
   "execution_count": null,
   "id": "2decfe82",
   "metadata": {},
   "outputs": [],
   "source": [
    "df.head()"
   ]
  },
  {
   "cell_type": "code",
   "execution_count": null,
   "id": "8eacc1df",
   "metadata": {},
   "outputs": [],
   "source": [
    "data=df[df['Score']==5]\n",
    "data.head()"
   ]
  },
  {
   "cell_type": "code",
   "execution_count": null,
   "id": "9fa0c5b1",
   "metadata": {},
   "outputs": [],
   "source": [
    "data['%upvote'].unique()"
   ]
  },
  {
   "cell_type": "code",
   "execution_count": null,
   "id": "85b0e743",
   "metadata": {},
   "outputs": [],
   "source": [
    "#Getting rid of neutral votes"
   ]
  },
  {
   "cell_type": "code",
   "execution_count": null,
   "id": "7fbfcb51",
   "metadata": {},
   "outputs": [],
   "source": [
    "data2=data[data['%upvote'].isin(['80-100%', '60-80%', '20-40%', '0-20%'])]"
   ]
  },
  {
   "cell_type": "code",
   "execution_count": null,
   "id": "d76ec408",
   "metadata": {},
   "outputs": [],
   "source": [
    "data2.head()"
   ]
  },
  {
   "cell_type": "code",
   "execution_count": null,
   "id": "cd4aed19",
   "metadata": {},
   "outputs": [],
   "source": [
    "\n"
   ]
  },
  {
   "cell_type": "code",
   "execution_count": null,
   "id": "eced7c78",
   "metadata": {},
   "outputs": [],
   "source": [
    "X=data2['Text']"
   ]
  },
  {
   "cell_type": "code",
   "execution_count": null,
   "id": "f800f3b5",
   "metadata": {},
   "outputs": [],
   "source": [
    "data2['%upvote'].unique()"
   ]
  },
  {
   "cell_type": "code",
   "execution_count": null,
   "id": "c96f15ed",
   "metadata": {},
   "outputs": [],
   "source": [
    "y_dict={'80-100%':1, '60-80%':1, '20-40%':0, '0-20%':0}\n",
    "y=data['%upvote'].map(y_dict)"
   ]
  },
  {
   "cell_type": "code",
   "execution_count": null,
   "id": "346a6cb7",
   "metadata": {},
   "outputs": [],
   "source": [
    "print(y.value_counts())"
   ]
  },
  {
   "cell_type": "code",
   "execution_count": null,
   "id": "7fe16387",
   "metadata": {},
   "outputs": [],
   "source": []
  },
  {
   "cell_type": "code",
   "execution_count": null,
   "id": "4d8f6cf1",
   "metadata": {},
   "outputs": [],
   "source": [
    "from sklearn.feature_extraction.text import TfidfVectorizer"
   ]
  },
  {
   "cell_type": "code",
   "execution_count": null,
   "id": "688763f3",
   "metadata": {},
   "outputs": [],
   "source": [
    "tf=TfidfVectorizer()"
   ]
  },
  {
   "cell_type": "code",
   "execution_count": null,
   "id": "d903f818",
   "metadata": {},
   "outputs": [],
   "source": [
    "X_c=tf.fit_transform(X)"
   ]
  },
  {
   "cell_type": "code",
   "execution_count": null,
   "id": "fdffea0f",
   "metadata": {},
   "outputs": [],
   "source": [
    "from sklearn.model_selection import train_test_split\n",
    "X_train,X_test,y_train,y_test=train_test_split(X_c,y,train_size=0.7)"
   ]
  },
  {
   "cell_type": "code",
   "execution_count": null,
   "id": "1651ac52",
   "metadata": {},
   "outputs": [],
   "source": []
  },
  {
   "cell_type": "code",
   "execution_count": null,
   "id": "a54fb684",
   "metadata": {},
   "outputs": [],
   "source": [
    "#Handling Data Imbalance  (To Avoid ML Bias)\n",
    "#Doing Cross Validation\n",
    "#Checking Accuracy of Cross validated Model"
   ]
  },
  {
   "cell_type": "code",
   "execution_count": null,
   "id": "c3329baf",
   "metadata": {},
   "outputs": [],
   "source": [
    "pip install Tensorflow"
   ]
  },
  {
   "cell_type": "code",
   "execution_count": null,
   "id": "5b698196",
   "metadata": {},
   "outputs": [],
   "source": [
    "conda install -c conda-forge imbalanced-learn"
   ]
  },
  {
   "cell_type": "code",
   "execution_count": null,
   "id": "1fe22301",
   "metadata": {},
   "outputs": [],
   "source": [
    "from sklearn.model_selection import train_test_split\n",
    "X_train,X_test,y_train,y_test=train_test_split(X_c,y,train_size=0.7)"
   ]
  },
  {
   "cell_type": "code",
   "execution_count": null,
   "id": "188ae6a9",
   "metadata": {},
   "outputs": [],
   "source": [
    "from imblearn.over_sampling import RandomOverSampler"
   ]
  },
  {
   "cell_type": "code",
   "execution_count": null,
   "id": "6d98195b",
   "metadata": {},
   "outputs": [],
   "source": [
    "os=RandomOverSampler()"
   ]
  },
  {
   "cell_type": "code",
   "execution_count": null,
   "id": "c802d36c",
   "metadata": {},
   "outputs": [],
   "source": []
  },
  {
   "cell_type": "code",
   "execution_count": null,
   "id": "3a0d2e1a",
   "metadata": {},
   "outputs": [],
   "source": [
    "X_train_res,y_train_res= os.fit_sample(X_c,y)"
   ]
  },
  {
   "cell_type": "code",
   "execution_count": null,
   "id": "1e520af6",
   "metadata": {},
   "outputs": [],
   "source": [
    "X_train_res.shape"
   ]
  },
  {
   "cell_type": "code",
   "execution_count": null,
   "id": "d0062c73",
   "metadata": {},
   "outputs": [],
   "source": [
    "y_train_res.shape"
   ]
  },
  {
   "cell_type": "code",
   "execution_count": null,
   "id": "849fb2dc",
   "metadata": {},
   "outputs": [],
   "source": []
  },
  {
   "cell_type": "code",
   "execution_count": null,
   "id": "fbe622c2",
   "metadata": {},
   "outputs": [],
   "source": [
    "from collections import Counter"
   ]
  },
  {
   "cell_type": "code",
   "execution_count": null,
   "id": "fb2afc1b",
   "metadata": {},
   "outputs": [],
   "source": [
    "print('Original dataset shape {}'.format(Counter(y)))\n",
    "print('Resampled dataset shape {}'.format(Counter(y_train_res)))"
   ]
  },
  {
   "cell_type": "code",
   "execution_count": null,
   "id": "026d1c1a",
   "metadata": {},
   "outputs": [],
   "source": [
    "from sklearn.linear_model import LogisticRegression"
   ]
  },
  {
   "cell_type": "code",
   "execution_count": null,
   "id": "56de91bf",
   "metadata": {},
   "outputs": [],
   "source": [
    "log_class=LogisticRegression()"
   ]
  },
  {
   "cell_type": "code",
   "execution_count": null,
   "id": "f4aa670d",
   "metadata": {},
   "outputs": [],
   "source": [
    "grid={'C':10.0 **np.arange(-2,3),'penalty':['l1','l2']}"
   ]
  },
  {
   "cell_type": "code",
   "execution_count": null,
   "id": "8e0267f6",
   "metadata": {},
   "outputs": [],
   "source": [
    "import numpy as np\n",
    "from sklearn.model_selection import GridSearchCV"
   ]
  },
  {
   "cell_type": "code",
   "execution_count": null,
   "id": "e1e748bc",
   "metadata": {},
   "outputs": [],
   "source": [
    "\n",
    "clf=GridSearchCV(estimator=log_class,param_grid=grid,cv=5,n_jobs=-1,scoring='f1_macro')\n",
    "clf.fit(X_train_res,y_train_res)"
   ]
  },
  {
   "cell_type": "code",
   "execution_count": null,
   "id": "2e61cdb2",
   "metadata": {},
   "outputs": [],
   "source": [
    "y_pred=clf.predict(X_test)\n",
    "print(confusion_matrix(y_test,y_pred))\n",
    "print(accuracy_score(y_test,y_pred))"
   ]
  },
  {
   "cell_type": "code",
   "execution_count": null,
   "id": "d4ec9e17",
   "metadata": {},
   "outputs": [],
   "source": []
  }
 ],
 "metadata": {
  "kernelspec": {
   "display_name": "Python 3 (ipykernel)",
   "language": "python",
   "name": "python3"
  },
  "language_info": {
   "codemirror_mode": {
    "name": "ipython",
    "version": 3
   },
   "file_extension": ".py",
   "mimetype": "text/x-python",
   "name": "python",
   "nbconvert_exporter": "python",
   "pygments_lexer": "ipython3",
   "version": "3.9.7"
  }
 },
 "nbformat": 4,
 "nbformat_minor": 5
}
